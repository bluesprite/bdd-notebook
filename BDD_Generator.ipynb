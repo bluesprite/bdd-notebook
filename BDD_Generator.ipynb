{
  "nbformat": 4,
  "nbformat_minor": 0,
  "metadata": {
    "colab": {
      "name": "BDD Generator",
      "version": "0.3.2",
      "provenance": [],
      "toc_visible": true,
      "include_colab_link": true
    },
    "kernelspec": {
      "name": "python3",
      "display_name": "Python 3"
    }
  },
  "cells": [
    {
      "cell_type": "markdown",
      "metadata": {
        "id": "view-in-github",
        "colab_type": "text"
      },
      "source": [
        "<a href=\"https://colab.research.google.com/github/bluesprite/bdd-notebook/blob/master/BDD_Generator.ipynb\" target=\"_parent\"><img src=\"https://colab.research.google.com/assets/colab-badge.svg\" alt=\"Open In Colab\"/></a>"
      ]
    },
    {
      "metadata": {
        "id": "TXHCCirEIZGq",
        "colab_type": "text"
      },
      "cell_type": "markdown",
      "source": [
        "# BDD Colab Page\n",
        "This is a Jupyter notebook originally created in Colab to generate BDD diagrams.  But it has also been put in githost for using in Binder and Azure Notebooks.\n",
        "\n",
        "If you are viewing the read-only version of this in Colab, then \"open in playground\" to get a temporary working notebook or make a copy (File, Save in Drive) to keep your own version of the working notebook.\n",
        "\n",
        "See tutorials on Youtube for working with Colab, Azure,  or Binder Jupyter notebooks.  \n",
        "\n",
        "Basically the notebook is made up of text cells and Ipython cells that you can add, edit, rearrange and run individually.  You add a code cell with + Code.  You run a cell by hovering over the [  ]  to the left of each cell and click it to run. It will display output below the cell.  You can rerun cells at any time in any order.\n",
        "\n",
        "There are some setup commands in various sections.  Initial setup is required. Run the code cell in the Install Packages section below which may be collapsed and/or have hidden cells.  Open it using the triangle to the left of the heading and then unhide the cells by clicking on the line that says 'cells hidden'."
      ]
    },
    {
      "metadata": {
        "id": "IySnk5LJFSXM",
        "colab_type": "text"
      },
      "cell_type": "markdown",
      "source": [
        "# Install Packages"
      ]
    },
    {
      "metadata": {
        "id": "jfbsiJeI_G1c",
        "colab_type": "text"
      },
      "cell_type": "markdown",
      "source": [
        "Only do once per session.  Google hosted notebooks are not persistant. If the instance is unused for awhile you'll need to rerun them again."
      ]
    },
    {
      "metadata": {
        "id": "A-kpNQ6IFO3D",
        "colab_type": "code",
        "colab": {}
      },
      "cell_type": "code",
      "source": [
        "!pip install pyeda gvmagic"
      ],
      "execution_count": 0,
      "outputs": []
    },
    {
      "metadata": {
        "id": "_4sbUvWTGMTf",
        "colab_type": "text"
      },
      "cell_type": "markdown",
      "source": [
        "# Generate and Display BDD"
      ]
    },
    {
      "metadata": {
        "id": "Q_Iv0lEZ_XBA",
        "colab_type": "text"
      },
      "cell_type": "markdown",
      "source": [
        "Once Pyeda and gvmagic are installed you can write python code snippets to generate BDD diagrams.  \n",
        "\n",
        "If you want to reorder the variables you can either do it manually with rename in a pyeda command, or more simply, Restart the runtime of the notebook kernel by using the notebook command Runtime -> Restart Runtime  (near the top of the browser window)\n",
        "\n",
        "Each time you restart the runtime you will have to reimport from pyeda and reload gvmagic below (you won't have re-install them).\n",
        "\n",
        "You can create as many code cells as you like by using the + code button in the notebook and put your python commands in the cell."
      ]
    },
    {
      "metadata": {
        "id": "4JsHXIELMv6I",
        "colab_type": "text"
      },
      "cell_type": "markdown",
      "source": [
        "**RERUN the cell below once after each time you restart the runtime:**"
      ]
    },
    {
      "metadata": {
        "id": "IMQMa4KEGxvu",
        "colab_type": "code",
        "colab": {}
      },
      "cell_type": "code",
      "source": [
        "from pyeda.inter import *\n",
        "%load_ext gvmagic"
      ],
      "execution_count": 0,
      "outputs": []
    },
    {
      "metadata": {
        "id": "9HueaA5xM_Q5",
        "colab_type": "text"
      },
      "cell_type": "markdown",
      "source": [
        "**Example BDD Code Cells Below.  Run, edit, and add more code cells as you please.**"
      ]
    },
    {
      "metadata": {
        "id": "Pxf1S6jaG_Su",
        "colab_type": "code",
        "colab": {}
      },
      "cell_type": "code",
      "source": [
        "c, a, b = map(bddvar, 'cab')\n",
        "f = a & b | a & c | b & c | a\n",
        "%dotobj f"
      ],
      "execution_count": 0,
      "outputs": []
    },
    {
      "metadata": {
        "id": "78pu7ir-HsvK",
        "colab_type": "code",
        "colab": {}
      },
      "cell_type": "code",
      "source": [
        "g = a & b | a | c\n",
        "%dotobj g"
      ],
      "execution_count": 0,
      "outputs": []
    },
    {
      "metadata": {
        "id": "du3bMXlzcihZ",
        "colab_type": "code",
        "colab": {}
      },
      "cell_type": "code",
      "source": [
        "X = bddvars('x', 8)\n",
        "f1 = X[0] & X[1] | X[2] & X[3] | X[4] & X[5]\n",
        "f2 = X[0] & X[3] | X[1] & X[4] | X[2] & X[5]\n",
        "%dotobj f1\n",
        "%dotobj f2"
      ],
      "execution_count": 0,
      "outputs": []
    },
    {
      "metadata": {
        "id": "ZkMhQuCK1y11",
        "colab_type": "text"
      },
      "cell_type": "markdown",
      "source": [
        "# Save to PDF and download"
      ]
    },
    {
      "metadata": {
        "id": "hL370PnL2boZ",
        "colab_type": "text"
      },
      "cell_type": "markdown",
      "source": [
        "If you want to download a PDF, then import source from graphviz (only once each time runtime is restarted)"
      ]
    },
    {
      "metadata": {
        "id": "QqUg0TCa15fD",
        "colab_type": "code",
        "colab": {}
      },
      "cell_type": "code",
      "source": [
        "from graphviz import Source"
      ],
      "execution_count": 0,
      "outputs": []
    },
    {
      "metadata": {
        "id": "u2_-huMwX8uj",
        "colab_type": "text"
      },
      "cell_type": "markdown",
      "source": [
        "**PDF Creation**\n",
        "This code creates a PDF of your BDD on the server.  The example code assumes your previously created function is named 'f' and will create a file called bddpic101.pdf on the server.  You can go to Files in your notebook host (Azure, Binder, etc) and then find and download the resulting pdf."
      ]
    },
    {
      "metadata": {
        "id": "w9RH692o2GWd",
        "colab_type": "code",
        "colab": {}
      },
      "cell_type": "code",
      "source": [
        "gv = Source(f.to_dot())\n",
        "gv.render('bddpic101')\n"
      ],
      "execution_count": 0,
      "outputs": []
    },
    {
      "metadata": {
        "id": "mPXn6Qxs2lvR",
        "colab_type": "text"
      },
      "cell_type": "markdown",
      "source": [
        "**Colab PDF Download from Colab** \n",
        "The Code snippet below will start a download if you are using this notebook on Google Colab"
      ]
    },
    {
      "metadata": {
        "id": "LVTj0Qb-YtbH",
        "colab_type": "code",
        "colab": {}
      },
      "cell_type": "code",
      "source": [
        "from google.colab import files\n",
        "files.download('bddpic101.pdf')"
      ],
      "execution_count": 0,
      "outputs": []
    }
  ]
}